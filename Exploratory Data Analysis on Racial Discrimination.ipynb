{
 "cells": [
  {
   "cell_type": "markdown",
   "metadata": {},
   "source": [
    "# Examining Racial Discrimination in the US Job Market\n",
    "\n",
    "### Background\n",
    "Racial discrimination continues to be pervasive in cultures throughout the world. Researchers examined the level of racial discrimination in the United States labor market by randomly assigning identical résumés to black-sounding or white-sounding names and observing the impact on requests for interviews from employers.\n",
    "\n",
    "### Data\n",
    "In the dataset provided, each row represents a resume. The 'race' column has two values, 'b' and 'w', indicating black-sounding and white-sounding. The column 'call' has two values, 1 and 0, indicating whether the resume received a call from employers or not.\n",
    "\n",
    "Note that the 'b' and 'w' values in race are assigned randomly to the resumes when presented to the employer."
   ]
  },
  {
   "cell_type": "markdown",
   "metadata": {},
   "source": [
    "### Exercises\n",
    "You will perform a statistical analysis to establish whether race has a significant impact on the rate of callbacks for resumes.\n",
    "\n",
    "Answer the following questions **in this notebook below and submit to your Github account**. \n",
    "\n",
    "   1. What test is appropriate for this problem? Does CLT apply?\n",
    "   2. What are the null and alternate hypotheses?\n",
    "   3. Compute margin of error, confidence interval, and p-value. Try using both the bootstrapping and the frequentist statistical approaches.\n",
    "   4. Write a story describing the statistical significance in the context or the original problem.\n",
    "   5. Does your analysis mean that race/name is the most important factor in callback success? Why or why not? If not, how would you amend your analysis?\n",
    "\n",
    "You can include written notes in notebook cells using Markdown: \n",
    "   - In the control panel at the top, choose Cell > Cell Type > Markdown\n",
    "   - Markdown syntax: http://nestacms.com/docs/creating-content/markdown-cheat-sheet\n",
    "\n",
    "#### Resources\n",
    "+ Experiment information and data source: http://www.povertyactionlab.org/evaluation/discrimination-job-market-united-states\n",
    "+ Scipy statistical methods: http://docs.scipy.org/doc/scipy/reference/stats.html \n",
    "+ Markdown syntax: http://nestacms.com/docs/creating-content/markdown-cheat-sheet\n",
    "+ Formulas for the Bernoulli distribution: https://en.wikipedia.org/wiki/Bernoulli_distribution"
   ]
  },
  {
   "cell_type": "code",
   "execution_count": 1,
   "metadata": {},
   "outputs": [],
   "source": [
    "import pandas as pd \n",
    "import numpy as np\n",
    "from scipy import stats\n"
   ]
  },
  {
   "cell_type": "code",
   "execution_count": 2,
   "metadata": {},
   "outputs": [],
   "source": [
    "data = pd.io.stata.read_stata('data/us_job_market_discrimination.dta')\n"
   ]
  },
  {
   "cell_type": "code",
   "execution_count": 4,
   "metadata": {},
   "outputs": [
    {
     "data": {
      "text/plain": [
       "157.0"
      ]
     },
     "execution_count": 4,
     "metadata": {},
     "output_type": "execute_result"
    }
   ],
   "source": [
    "# number of callbacks for black-sounding names\n",
    "sum(data[data.race=='b'].call)\n"
   ]
  },
  {
   "cell_type": "code",
   "execution_count": 5,
   "metadata": {},
   "outputs": [
    {
     "data": {
      "text/html": [
       "<div>\n",
       "<style scoped>\n",
       "    .dataframe tbody tr th:only-of-type {\n",
       "        vertical-align: middle;\n",
       "    }\n",
       "\n",
       "    .dataframe tbody tr th {\n",
       "        vertical-align: top;\n",
       "    }\n",
       "\n",
       "    .dataframe thead th {\n",
       "        text-align: right;\n",
       "    }\n",
       "</style>\n",
       "<table border=\"1\" class=\"dataframe\">\n",
       "  <thead>\n",
       "    <tr style=\"text-align: right;\">\n",
       "      <th></th>\n",
       "      <th>id</th>\n",
       "      <th>ad</th>\n",
       "      <th>education</th>\n",
       "      <th>ofjobs</th>\n",
       "      <th>yearsexp</th>\n",
       "      <th>honors</th>\n",
       "      <th>volunteer</th>\n",
       "      <th>military</th>\n",
       "      <th>empholes</th>\n",
       "      <th>occupspecific</th>\n",
       "      <th>...</th>\n",
       "      <th>compreq</th>\n",
       "      <th>orgreq</th>\n",
       "      <th>manuf</th>\n",
       "      <th>transcom</th>\n",
       "      <th>bankreal</th>\n",
       "      <th>trade</th>\n",
       "      <th>busservice</th>\n",
       "      <th>othservice</th>\n",
       "      <th>missind</th>\n",
       "      <th>ownership</th>\n",
       "    </tr>\n",
       "  </thead>\n",
       "  <tbody>\n",
       "    <tr>\n",
       "      <th>0</th>\n",
       "      <td>b</td>\n",
       "      <td>1</td>\n",
       "      <td>4</td>\n",
       "      <td>2</td>\n",
       "      <td>6</td>\n",
       "      <td>0</td>\n",
       "      <td>0</td>\n",
       "      <td>0</td>\n",
       "      <td>1</td>\n",
       "      <td>17</td>\n",
       "      <td>...</td>\n",
       "      <td>1.0</td>\n",
       "      <td>0.0</td>\n",
       "      <td>1.0</td>\n",
       "      <td>0.0</td>\n",
       "      <td>0.0</td>\n",
       "      <td>0.0</td>\n",
       "      <td>0.0</td>\n",
       "      <td>0.0</td>\n",
       "      <td>0.0</td>\n",
       "      <td></td>\n",
       "    </tr>\n",
       "    <tr>\n",
       "      <th>1</th>\n",
       "      <td>b</td>\n",
       "      <td>1</td>\n",
       "      <td>3</td>\n",
       "      <td>3</td>\n",
       "      <td>6</td>\n",
       "      <td>0</td>\n",
       "      <td>1</td>\n",
       "      <td>1</td>\n",
       "      <td>0</td>\n",
       "      <td>316</td>\n",
       "      <td>...</td>\n",
       "      <td>1.0</td>\n",
       "      <td>0.0</td>\n",
       "      <td>1.0</td>\n",
       "      <td>0.0</td>\n",
       "      <td>0.0</td>\n",
       "      <td>0.0</td>\n",
       "      <td>0.0</td>\n",
       "      <td>0.0</td>\n",
       "      <td>0.0</td>\n",
       "      <td></td>\n",
       "    </tr>\n",
       "    <tr>\n",
       "      <th>2</th>\n",
       "      <td>b</td>\n",
       "      <td>1</td>\n",
       "      <td>4</td>\n",
       "      <td>1</td>\n",
       "      <td>6</td>\n",
       "      <td>0</td>\n",
       "      <td>0</td>\n",
       "      <td>0</td>\n",
       "      <td>0</td>\n",
       "      <td>19</td>\n",
       "      <td>...</td>\n",
       "      <td>1.0</td>\n",
       "      <td>0.0</td>\n",
       "      <td>1.0</td>\n",
       "      <td>0.0</td>\n",
       "      <td>0.0</td>\n",
       "      <td>0.0</td>\n",
       "      <td>0.0</td>\n",
       "      <td>0.0</td>\n",
       "      <td>0.0</td>\n",
       "      <td></td>\n",
       "    </tr>\n",
       "    <tr>\n",
       "      <th>3</th>\n",
       "      <td>b</td>\n",
       "      <td>1</td>\n",
       "      <td>3</td>\n",
       "      <td>4</td>\n",
       "      <td>6</td>\n",
       "      <td>0</td>\n",
       "      <td>1</td>\n",
       "      <td>0</td>\n",
       "      <td>1</td>\n",
       "      <td>313</td>\n",
       "      <td>...</td>\n",
       "      <td>1.0</td>\n",
       "      <td>0.0</td>\n",
       "      <td>1.0</td>\n",
       "      <td>0.0</td>\n",
       "      <td>0.0</td>\n",
       "      <td>0.0</td>\n",
       "      <td>0.0</td>\n",
       "      <td>0.0</td>\n",
       "      <td>0.0</td>\n",
       "      <td></td>\n",
       "    </tr>\n",
       "    <tr>\n",
       "      <th>4</th>\n",
       "      <td>b</td>\n",
       "      <td>1</td>\n",
       "      <td>3</td>\n",
       "      <td>3</td>\n",
       "      <td>22</td>\n",
       "      <td>0</td>\n",
       "      <td>0</td>\n",
       "      <td>0</td>\n",
       "      <td>0</td>\n",
       "      <td>313</td>\n",
       "      <td>...</td>\n",
       "      <td>1.0</td>\n",
       "      <td>1.0</td>\n",
       "      <td>0.0</td>\n",
       "      <td>0.0</td>\n",
       "      <td>0.0</td>\n",
       "      <td>0.0</td>\n",
       "      <td>0.0</td>\n",
       "      <td>1.0</td>\n",
       "      <td>0.0</td>\n",
       "      <td>Nonprofit</td>\n",
       "    </tr>\n",
       "  </tbody>\n",
       "</table>\n",
       "<p>5 rows × 65 columns</p>\n",
       "</div>"
      ],
      "text/plain": [
       "  id ad  education  ofjobs  yearsexp  honors  volunteer  military  empholes  \\\n",
       "0  b  1          4       2         6       0          0         0         1   \n",
       "1  b  1          3       3         6       0          1         1         0   \n",
       "2  b  1          4       1         6       0          0         0         0   \n",
       "3  b  1          3       4         6       0          1         0         1   \n",
       "4  b  1          3       3        22       0          0         0         0   \n",
       "\n",
       "   occupspecific    ...      compreq  orgreq  manuf  transcom  bankreal trade  \\\n",
       "0             17    ...          1.0     0.0    1.0       0.0       0.0   0.0   \n",
       "1            316    ...          1.0     0.0    1.0       0.0       0.0   0.0   \n",
       "2             19    ...          1.0     0.0    1.0       0.0       0.0   0.0   \n",
       "3            313    ...          1.0     0.0    1.0       0.0       0.0   0.0   \n",
       "4            313    ...          1.0     1.0    0.0       0.0       0.0   0.0   \n",
       "\n",
       "  busservice othservice  missind  ownership  \n",
       "0        0.0        0.0      0.0             \n",
       "1        0.0        0.0      0.0             \n",
       "2        0.0        0.0      0.0             \n",
       "3        0.0        0.0      0.0             \n",
       "4        0.0        1.0      0.0  Nonprofit  \n",
       "\n",
       "[5 rows x 65 columns]"
      ]
     },
     "execution_count": 5,
     "metadata": {},
     "output_type": "execute_result"
    }
   ],
   "source": [
    "data.head()\n"
   ]
  },
  {
   "cell_type": "markdown",
   "metadata": {},
   "source": [
    "## 1. What test is appropriate for this problem? Does the CLT apply? \n",
    "In this case, we are comparing the callback rates of two independent groups. Names were randomly assigned to resumes, therefore, the two groups are independent. Therefore, the best test for this is a two sample t-test for independent samples. \n",
    "\n",
    "For the CLT to apply, there are a few conditions that need to be met. First, the sample needs to be randomly drawn from the population. In this case, the names are randomly assigned to resumes, so we can assume that this condition is met. Second, the size of the sample must not be more than 10% of the total population size. Since there are millions of possibilities for names and recruiters see hundreds of resumes, we can assume that this condition is also met. The last condition is that the sample size must be big enough, which is usually categorized as n > 30. This condition is also met, so the CLT applies in this case. "
   ]
  },
  {
   "cell_type": "markdown",
   "metadata": {},
   "source": [
    "## 2. What are the null and alternative hypotheses? \n",
    "\n",
    "*Hull hypothesis*: There is no difference in the callback rates of white and black-sounding names. \n",
    "\n",
    "*Alternative hypothesis*: There is a significant difference in the callback rates between white and black-sounding names. (Race has a significant effect on callback rate). "
   ]
  },
  {
   "cell_type": "markdown",
   "metadata": {},
   "source": [
    "## 3. Compute margin of error, confidence interval, and p-value. Try using both the bootstrapping and the frequentist statistical approaches."
   ]
  },
  {
   "cell_type": "code",
   "execution_count": 21,
   "metadata": {},
   "outputs": [
    {
     "name": "stdout",
     "output_type": "stream",
     "text": [
      "The margin of error is 0.7448481561869554\n",
      "95% confidence interval is: [ -79.03684815618696 , 0.6665561561869554 ]\n",
      "p = 0.0\n",
      "p2 = 0.0\n"
     ]
    }
   ],
   "source": [
    "w = data[data.race=='w']\n",
    "b = data[data.race=='b'] \n",
    "b = b[\"call\"] \n",
    "w = w[\"call\"] \n",
    "\n",
    "def draw_bootstrap(data, func, size=1):\n",
    "\n",
    "    # Initialize array of replicates: bs_replicates\n",
    "    bs_replicates = np.empty(size)\n",
    "\n",
    "    # Generate replicates\n",
    "    for i in range(size):\n",
    "        bs_replicates[i] = func(np.random.choice(data, size=len(data)))\n",
    "\n",
    "    return bs_replicates\n",
    "\n",
    "b_replicates = draw_bootstrap(b, sum, 1000) \n",
    "w_replicates = draw_bootstrap(w, sum, 1000) \n",
    "\n",
    "pooled_stdev_bs = np.sqrt(((len(b_replicates) - 1) * (np.std(b_replicates)**2) + (len(w_replicates) - 1) * (np.std(w_replicates)**2))/(len(b) + len(w) - 2))\n",
    "\n",
    "moe_bs = 1.96 * (pooled_stdev_bs)*(np.sqrt((1/len(b_replicates)) + (1/len(w_replicates))))\n",
    "print('The margin of error is', moe_bs) \n",
    "\n",
    "ci_low_bs = (np.mean(b_replicates) - np.mean(w_replicates)) / 1000 - moe_bs \n",
    "ci_high_bs = (np.mean(b_replicates) - np.mean(w_replicates)) / 1000 + moe_bs \n",
    "print('95% confidence interval is: [', ci_low_bs, ',', ci_high_bs, ']') \n",
    "\n",
    "p = np.sum(b_replicates >= w_replicates) / 1000 \n",
    "p2 = np.sum(b_replicates - w_replicates >= 0) / 1000 \n",
    "print('p =', p) \n",
    "print('p2 =', p2)  \n"
   ]
  },
  {
   "cell_type": "markdown",
   "metadata": {},
   "source": [
    "Using the bootstrap method, we can see that the p-value is below p < 0.05. Therefore, there is a significant difference between the callback success of black-sounding names and white-sounding names. We reject the null hypothesis that there is no difference in callback success rate. "
   ]
  },
  {
   "cell_type": "code",
   "execution_count": 33,
   "metadata": {},
   "outputs": [
    {
     "name": "stdout",
     "output_type": "stream",
     "text": [
      "The proportion of callbacks for black-sounding names is 0.0644763857126236\n",
      "The proportion of callbacks for white-sounding names is 0.09650924056768417\n",
      "The margin of error is 0.015255284385449893\n",
      "95% confidence interval is: [ -0.04728813924051047 , -0.016777570469610682 ]\n",
      "The two sample z test of proportions for independent samples is:\n"
     ]
    },
    {
     "data": {
      "text/plain": [
       "(-4.108412152434346, 3.983886837585077e-05)"
      ]
     },
     "execution_count": 33,
     "metadata": {},
     "output_type": "execute_result"
    }
   ],
   "source": [
    "w = data[data.race=='w'] \n",
    "w = w[\"call\"]\n",
    "b = data[data.race=='b']\n",
    "b = b[\"call\"] \n",
    "\n",
    "b_mean = np.mean(b)\n",
    "print('The proportion of callbacks for black-sounding names is', b_mean) \n",
    "\n",
    "w_mean = np.mean(w) \n",
    "print('The proportion of callbacks for white-sounding names is', w_mean)  \n",
    "\n",
    "n_b = len(b)  \n",
    "n_w = len(w) \n",
    "\n",
    "pooled_stdev = np.sqrt(((len(b) - 1) * (np.std(b)**2) + (len(w) - 1) * (np.std(w)**2))/(len(b) + len(w) - 2))\n",
    "\n",
    "moe_t = 1.96 * (pooled_stdev)*(np.sqrt((1/len(b)) + (1/len(w))))\n",
    "print('The margin of error is', moe_t) \n",
    "\n",
    "ci_low = (b_mean - w_mean) - moe_t\n",
    "ci_high = (b_mean - w_mean) + moe_t \n",
    "print('95% confidence interval is: [', ci_low, ',', ci_high, ']') \n",
    "\n",
    "from statsmodels.stats.proportion import proportions_ztest \n",
    "\n",
    "calls_b = sum(data[data.race=='b'].call)\n",
    "calls_w = sum(data[data.race=='w'].call)\n",
    "print('The two sample z test of proportions for independent samples is:')\n",
    "proportions_ztest([calls_b, calls_w], [len(b), len(w)], value=None, alternative='two-sided', prop_var=False)\n"
   ]
  },
  {
   "cell_type": "markdown",
   "metadata": {},
   "source": [
    "The 95% confidence interval does not contain zero. Therefore, there is evidence to suggest that there is indeed a significant difference between the proportion of black-sounding names that get callbacks and the proportion of white-sounding names that get callbacks. \n",
    "\n",
    "Using the two-sample z test for equal proportions in independent samples, the p-value is p < 0.00. THis means that we reject the null hypothesis. There is enough evidence to suggest that race has a significant effect on callback success. \n",
    "\n",
    "Just to be sure, we can check the results with a two-sample t-test for independent samples. "
   ]
  },
  {
   "cell_type": "code",
   "execution_count": 34,
   "metadata": {},
   "outputs": [
    {
     "name": "stdout",
     "output_type": "stream",
     "text": [
      "The two sample t-test for independent samples result is:\n"
     ]
    },
    {
     "data": {
      "text/plain": [
       "Ttest_indResult(statistic=4.114705290861751, pvalue=3.940802103128886e-05)"
      ]
     },
     "execution_count": 34,
     "metadata": {},
     "output_type": "execute_result"
    }
   ],
   "source": [
    "print('The two sample t-test for independent samples result is:')\n",
    "stats.ttest_ind(w, b, axis=0, equal_var=True) \n"
   ]
  },
  {
   "cell_type": "markdown",
   "metadata": {},
   "source": [
    "Using the two-sample t-test for independent samples, the p-value is p < 0.00. This means that we reject the null hypothesis. There is enough evidence to suggest that race has a significant effect on callback success. "
   ]
  },
  {
   "cell_type": "markdown",
   "metadata": {},
   "source": [
    "## 4. Write a story describing the statistical significance in the context or the original problem.\n",
    "This research experiment was intended to investigate the idea that recruiters have stereotypes about race, which can be drawn from the name on a person's resume. In this experiment, researchers randomly assigned either a white or black-sounding name to identical resumes. They then measured if the resume got a callback, denoted as the binary variable \"call\" which was assigned a 1 if the resume received a callback and 0 otherwise. \n",
    "\n",
    "After analyzing the callback rate of the two groups, we can see that perceived race of the person does indeed have a significant effect on callback success rate. Resumes with black-sounding names are significantly less likely to get a callback than a resume with a white-sounding name, even when the content is identical. "
   ]
  },
  {
   "cell_type": "markdown",
   "metadata": {},
   "source": [
    "## 5. Does your analysis mean that race/name is the most important factor in callback success? Why or why not? If not, how would you amend your analysis? \n",
    "This analysis does not mean that race / name is the most important factor in callback success. It only means that it is **an** important factor in callback success. To determine the most important factor, we need to include ther factors that may impract callback success and conduct a regression analysis. "
   ]
  }
 ],
 "metadata": {
  "kernelspec": {
   "display_name": "Python 3",
   "language": "python",
   "name": "python3"
  },
  "language_info": {
   "codemirror_mode": {
    "name": "ipython",
    "version": 3
   },
   "file_extension": ".py",
   "mimetype": "text/x-python",
   "name": "python",
   "nbconvert_exporter": "python",
   "pygments_lexer": "ipython3",
   "version": "3.6.5"
  }
 },
 "nbformat": 4,
 "nbformat_minor": 1
}
